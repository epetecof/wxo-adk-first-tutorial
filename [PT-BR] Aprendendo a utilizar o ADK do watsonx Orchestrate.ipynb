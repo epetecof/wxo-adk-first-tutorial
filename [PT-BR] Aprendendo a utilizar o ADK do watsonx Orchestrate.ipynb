{
 "cells": [
  {
   "cell_type": "markdown",
   "id": "df308fea-09ae-44df-978d-d44262dd9197",
   "metadata": {},
   "source": [
    "# Aprendendo a utilizar o ADK (Agent Development Toolkit) do watsonx Orchestrate\n",
    "\n",
    "O objetivo desse notebook é demonstrar como utilizar as principais funcionalidades do ADK (Agent Development Toolkit) do watsonx Orchestrate. Nas próximas células vamos configurar o ADK e criar os principais componentes de um agente na plataforma, uma Knowledge Base, uma Tool e o Agent em si.  "
   ]
  },
  {
   "cell_type": "markdown",
   "metadata": {},
   "source": [
    "**Observação 1: Esse notebook foi planejado para ser executado dentro de um projeto do watsonx.ai Studio, entretanto ele é facilmente adaptável para rodar localmente.**"
   ]
  },
  {
   "cell_type": "markdown",
   "metadata": {},
   "source": [
    "**Observação 2: No repositório do GitHub desse notebook, foi disponibilizado para você um PDF exemplo de bula para ser usado como Knowledge Base. Adicione-o também ao seu projeto ou use algum outro PDF de sua preferência.**"
   ]
  },
  {
   "cell_type": "markdown",
   "id": "de58e886-2767-4bbc-b1be-34509899eaed",
   "metadata": {
    "id": "50bee026-7519-49c3-bad9-f21e4b5fe56a"
   },
   "source": [
    "### Instalando o pacote `ibm-watsonx-orchestrate` \n",
    "\n",
    "Vamos começar instalando o ADK do watsonx Orchestrate. Com ele vamos ter acesso aos comandos necessários para desenvolver os agentes e todos os outros componentes que eles utilizam. "
   ]
  },
  {
   "cell_type": "code",
   "execution_count": null,
   "id": "ce8fb391-4c7b-4411-a4d8-29a620d6f701",
   "metadata": {
    "id": "f2de3640-d1de-46f4-942b-fa155c713d57"
   },
   "outputs": [],
   "source": [
    "! pip install ibm-watsonx-orchestrate | tail -1"
   ]
  },
  {
   "cell_type": "markdown",
   "id": "5ef8a2c8-41aa-4ee4-80aa-1b7671f10937",
   "metadata": {
    "id": "953b3fc3-e612-458e-b521-f5e344d66d73"
   },
   "source": [
    "\n",
    "### Instalação do pyyaml\n",
    "\n",
    "O pacote `pyyaml` é uma implementação em Python para o formato de serialização YAML. O ADK utiliza arquivos YAML para definir as configurações dos agentes.\n"
   ]
  },
  {
   "cell_type": "code",
   "execution_count": null,
   "id": "b6eebcba-0cc5-4655-9756-d5140f25d199",
   "metadata": {
    "id": "8d063287-7440-4c1c-8f75-55ee75e10747"
   },
   "outputs": [],
   "source": [
    "! pip install pyyaml | tail -1"
   ]
  },
  {
   "cell_type": "markdown",
   "id": "11b78dfa-03e5-4637-8cb9-f399a248e3f2",
   "metadata": {
    "id": "1dcfcf8c-706e-48b6-a0cc-17b8740a928b"
   },
   "source": [
    "\n",
    "## Execução do comando `orchestrate`\n",
    "\n",
    "O comando `!orchestrate --help` é usado para visualizar a ajuda do comando `orchestrate`. \n",
    "O uso desse comando é essencial para entender como utilizar a ferramenta `orchestrate` em linha de comando.\n"
   ]
  },
  {
   "cell_type": "code",
   "execution_count": null,
   "id": "6ab456ec-91cc-49be-8a4c-53bfb99f1c03",
   "metadata": {
    "id": "66050601-2dba-474f-98b5-972686d27439",
    "scrolled": true
   },
   "outputs": [],
   "source": [
    "! orchestrate --help"
   ]
  },
  {
   "cell_type": "markdown",
   "id": "080100e5-009b-4693-b98d-e5795b28d233",
   "metadata": {
    "id": "1f536868-7874-4f52-bec5-f8b241b43aa0"
   },
   "source": [
    "\n",
    "### Adicionar um novo ambiente do Watsonx Orchestrate\n",
    "\n",
    "O comando `!orchestrate env add` é usado para adicionar um novo ambiente do Watsonx Orchestrate ao seu ADK. Esse ambiente é uma instância do serviço que permite a execução dos agentes."
   ]
  },
  {
   "cell_type": "code",
   "execution_count": null,
   "id": "e8a6de4f-df65-4652-8ef8-db086c2732dc",
   "metadata": {
    "id": "58f39c92-2ffa-43ce-8966-651ea46437ac"
   },
   "outputs": [
    {
     "name": "stdout",
     "output_type": "stream",
     "text": [
      "\u001b[0;36m[INFO]\u001b[0;0m - Creating config file at location \"/home/wsuser/.config/orchestrate/config.yaml\"\n",
      "\u001b[0;35m[DEBUG]\u001b[0;0m - Setting default config data\n",
      "\u001b[0;36m[INFO]\u001b[0;0m - Environment 'techzone-037' has been created\n"
     ]
    }
   ],
   "source": [
    "! orchestrate env add -n techzone-037 -u <url> # Format: https://api.us-south.watson-orchestrate.cloud.ibm.com/instances/<instanceid>"
   ]
  },
  {
   "cell_type": "markdown",
   "id": "96f6f6e1-58ee-468f-b1cb-150b668c40bd",
   "metadata": {
    "id": "2788c6f3-1644-4e4d-bb29-f054cf1cd57b"
   },
   "source": [
    "\n",
    "### Ativação do Ambiente do Watsonx Orchestrate\n",
    "\n",
    "O comando `!orchestrate env activate` é usado para ativar um ambiente específico do Watsonx Orchestrate. \n",
    "Este ambiente deve ter sido previamente adicionado utilizando o comando `!orchestrate env add`. \n",
    "Para ativar o ambiente, é necessário fornecer o nome do ambiente (`techzone-037`) e uma chave de API (`<apikey>`) válida para autenticação.\n"
   ]
  },
  {
   "cell_type": "code",
   "execution_count": null,
   "id": "77cbc125-8f51-4889-8a7e-cfe9fee2870d",
   "metadata": {
    "id": "2cbd4115-ceb2-499c-a0fc-d8fafbdf75db"
   },
   "outputs": [
    {
     "name": "stdout",
     "output_type": "stream",
     "text": [
      "\u001b[0;36m[INFO]\u001b[0;0m - Creating config file at location \"/home/wsuser/.cache/orchestrate/credentials.yaml\"\n",
      "\u001b[0;35m[DEBUG]\u001b[0;0m - Setting default credentials data\n",
      "\u001b[0;36m[INFO]\u001b[0;0m - Environment 'techzone-037' is now active\n"
     ]
    }
   ],
   "source": [
    "! orchestrate env activate techzone-037 --api-key <apikey>"
   ]
  },
  {
   "cell_type": "markdown",
   "id": "b9b48276-c08c-4ba4-aec9-50e8e6cf2c90",
   "metadata": {},
   "source": [
    "## Criação de uma nova Knowledge Base\n",
    "\n",
    "A *Knowledge Base* é um componente do ADK que armazena os documentos e informações relevantes para o funcionamento de um agente. Nas próximas células vamos passar por todos os passos para a criação de uma *Knowledge Base*, começando pela obtenção dos documentos. Esse notebook foi executado em um ambiente da Cloud (watsonx.ai Studio) então vamos pegar os documentos de um bucket do IBM Cloud Object Storage. Se você estiver executando esse notebook localmente, você pode pular esses passos."
   ]
  },
  {
   "cell_type": "markdown",
   "id": "e8bef0ac-2495-4374-beb3-5bc18fcaeed7",
   "metadata": {
    "id": "6d0b3f25-ea7d-46d6-b4d0-9170f0b448fd"
   },
   "source": [
    "### Acesso ao Arquivo no IBM Cloud Object Storage\n",
    "\n",
    "Nesta célula, estamos acessando um arquivo armazenado no IBM Cloud Object Storage. O arquivo em questão é uma bula de remédio, denominado `bula_buscoduo.pdf`, que está armazenado em um bucket específico. Esse arquivo foi obtido no [bulário do Ministério da Saúde](https://consultas.anvisa.gov.br/#/bulario/q/?nomeProduto=BUSCODUO).\n",
    "\n",
    "#### Configuração do Cliente IBM Cloud Object Storage\n",
    "\n",
    "Para acessar o arquivo, primeiro configuramos o cliente IBM Cloud Object Storage utilizando a biblioteca `ibm_boto3`. Essa configuração inclui a definição da chave de API (`ibm_api_key_id`), o endpoint de autenticação (`ibm_auth_endpoint`), a versão de assinatura (`signature_version`) e o endpoint da URL (`endpoint_url`).\n",
    "\n",
    "#### Definição do Bucket e Objeto\n",
    "\n",
    "Em seguida, definimos o nome do bucket (`bucket`) e a chave do objeto (`object_key`) que desejamos acessar. Neste caso, o bucket é denominado `{{BUCKET_NAME}}` e o objeto é o arquivo `bula_buscoduo.pdf`.\n",
    "\n",
    "#### Salvar o Arquivo\n",
    "\n",
    "O arquivo é salvo com o mesmo nome (`bula_buscoduo.pdf`) no diretório de trabalho. Isso permite que o arquivo seja acessado e utilizado posteriormente nas células do Jupyter Notebook.\n",
    "\n",
    "Essa etapa é crucial para garantir que o arquivo esteja disponível para uso nos agentes do Watsonx Orchestrate, que serão configurados nas células subsequentes."
   ]
  },
  {
   "cell_type": "code",
   "execution_count": null,
   "id": "2320c1ed-981d-4e7c-ad1c-34f19a5454b7",
   "metadata": {
    "id": "421f844e-261f-443a-858d-c8c2d74b3a7f"
   },
   "outputs": [],
   "source": [
    "\n",
    "import os\n",
    "import pandas as pd\n",
    "from botocore.client import Config\n",
    "import ibm_boto3\n",
    "\n",
    "def __iter__(self): \n",
    "    return 0\n",
    "\n",
    "# Configuração do cliente IBM Cloud Object Storage\n",
    "cos_client = ibm_boto3.client(\n",
    "    service_name='s3',\n",
    "    ibm_api_key_id='{{API_KEY}}',\n",
    "    ibm_auth_endpoint=\"https://iam.cloud.ibm.com/identity/token\",\n",
    "    config=Config(signature_version='oauth'),\n",
    "    endpoint_url='{{ENDPOINT_URL}}'\n",
    ")\n",
    "\n",
    "# Definição do bucket e objeto a ser acessado\n",
    "bucket = '{{BUCKET_NAME}}'\n",
    "object_key = 'bula_buscoduo.pdf'\n",
    "\n",
    "streaming_body_1 = cos_client.get_object(Bucket=bucket, Key=object_key)['Body']\n",
    "\n",
    "# Salvar o arquivo no diretório de trabalho\n",
    "with open('bula_buscoduo.pdf', 'wb') as file:\n",
    "    file.write(streaming_body_1.read())"
   ]
  },
  {
   "cell_type": "markdown",
   "id": "d1d4a676-8441-47c9-adb9-a9e29c6e16a4",
   "metadata": {
    "id": "ffb76c17-e236-4b95-bd9a-95130dd93257"
   },
   "source": [
    "\n",
    "### Listagem de Arquivos do Diretório Atual\n",
    "\n",
    "O comando `! ls` é usado para listar os arquivos e diretórios presentes no diretório atual do *Jupyter Notebook*. \n",
    "Este comando é útil para verificar o conteúdo do diretório de trabalho e garantir que o arquivo foi corretamente salvo.\n"
   ]
  },
  {
   "cell_type": "code",
   "execution_count": 8,
   "id": "54933759-1fe1-4ad1-9359-38dd71d4c81e",
   "metadata": {
    "id": "b5eba9e2-c7ad-4593-bc0e-72ac88690879"
   },
   "outputs": [
    {
     "name": "stdout",
     "output_type": "stream",
     "text": [
      "bula_buscoduo.pdf\n"
     ]
    }
   ],
   "source": [
    "! ls"
   ]
  },
  {
   "cell_type": "markdown",
   "id": "1600f827-6c18-4ce4-ac9c-be71a94a00bd",
   "metadata": {
    "id": "6c640b95-69ba-491a-a891-3360200e060b"
   },
   "source": [
    "\n",
    "### Criação de arquivo YAML para *Knowledge Base*\n",
    "\n",
    "Nesta célula, criamos um arquivo YAML que representa a configuração de uma *knowledge base* para uso no Watsonx Orchestrate. Neste caso, a *knowledge base* denominada `kb_buscoduo` contém uma referência a um documento PDF, especificamente a bula do medicamento Buscoduo.\n",
    "\n",
    "O código em Python utiliza a biblioteca `yaml` para serializar o dicionário `data` em um formato YAML e salva em um arquivo denominado `kb_buscoduo.yaml`.Esse arquivo YAML será usado para importar a *knowledge base* no ambiente do Watsonx Orchestrate.\n"
   ]
  },
  {
   "cell_type": "code",
   "execution_count": 28,
   "id": "e05b0bca-d29e-4629-b9d1-15aa2ea82e41",
   "metadata": {
    "id": "d1fb118c-e805-4cd7-8bd9-6da68765af70"
   },
   "outputs": [],
   "source": [
    "import yaml\n",
    "\n",
    "data = {\n",
    "    'spec_version': 'v1',\n",
    "    'kind': 'knowledge_base',\n",
    "    'name': 'kb_buscoduo',\n",
    "    'description': 'Base de conhecimento com a bula do medicamento Buscoduo.',\n",
    "    'documents': [\n",
    "        '/home/wsuser/work/bula_buscoduo.pdf'\n",
    "    ]\n",
    "}\n",
    "\n",
    "with open('kb_buscoduo.yaml', 'w') as file:\n",
    "    yaml.dump(data, file, sort_keys=False)"
   ]
  },
  {
   "cell_type": "markdown",
   "id": "a7ebf9a4-bba6-41a2-8bde-f2ac11d5f59a",
   "metadata": {
    "id": "f69c0148-12bf-4a3e-9b6c-db2e13002c35"
   },
   "source": [
    "\n",
    "### Importação de *Knowledge Base* no Watsonx Orchestrate\n",
    "\n",
    "Nesta célula, importamos a *knowledge base* criada anteriormente no Watsonx Orchestrate. \n",
    "O comando `! orchestrate knowledge-bases import -f kb_buscoduo.yaml` é usado para importar a *knowledge base* a partir do arquivo YAML criado na célula anterior.\n",
    "Ao executar este comando, a *knowledge base* é registrada no ambiente do Watsonx Orchestrate, tornando-a disponível para uso no agente.\n"
   ]
  },
  {
   "cell_type": "code",
   "execution_count": 29,
   "id": "d32e0591-277e-4e49-ae73-33a7108efa8e",
   "metadata": {
    "id": "4cebef8d-5318-44dc-8971-6c616cbd9eb6"
   },
   "outputs": [
    {
     "name": "stdout",
     "output_type": "stream",
     "text": [
      "\u001b[0;36m[INFO]\u001b[0;0m - Successfully imported knowledge base 'kb_buscoduo'\n"
     ]
    }
   ],
   "source": [
    "! orchestrate knowledge-bases import -f kb_buscoduo.yaml"
   ]
  },
  {
   "cell_type": "markdown",
   "id": "2317f5fd-5a27-430b-90e6-093ffcae9a15",
   "metadata": {
    "id": "5ec6f6e1-ce25-43a4-99cb-b9f72770114f"
   },
   "source": [
    "\n",
    " ### Listagem de Knowledge Bases\n",
    " \n",
    " O comando `!orchestrate knowledge-bases list` é usado para listar todas as *knowledge bases* atualmente configuradas no ambiente do Watsonx Orchestrate, para uso nos agentes\n",
    " "
   ]
  },
  {
   "cell_type": "code",
   "execution_count": null,
   "id": "d4127de2-cc72-4e30-bdcc-af4a3f1e9162",
   "metadata": {
    "id": "80b78e57-4f3e-4840-89c5-e620e74c8c35"
   },
   "outputs": [],
   "source": [
    "! orchestrate knowledge-bases list"
   ]
  },
  {
   "cell_type": "markdown",
   "id": "1178331e-c84d-4e18-b5fc-bcfb4c535c46",
   "metadata": {
    "id": "561cd307-6663-4ef8-b3db-55c520e1f673"
   },
   "source": [
    "\n",
    "### Remoção de *Knowledge Base* no Watsonx Orchestrate\n",
    "A execução desta célula irá remover permanentemente a *knowledge base* `kb_buscoduo`. \n",
    "\n",
    "#### ATENÇÃO: Esta célula está comentada e só deve ser executada se necessário.\n"
   ]
  },
  {
   "cell_type": "code",
   "execution_count": null,
   "id": "c8bcc6e2-bb48-4441-a95b-e42998d2f926",
   "metadata": {
    "id": "aa4be27d-b913-4da9-9e11-e979fc0356e7"
   },
   "outputs": [
    {
     "name": "stdout",
     "output_type": "stream",
     "text": [
      "\u001b[0;36m[INFO]\u001b[0;0m - Successfully removed knowledge base 'kb_buscoduo'\n"
     ]
    }
   ],
   "source": [
    "##! orchestrate knowledge-bases remove --name kb_buscoduo"
   ]
  },
  {
   "cell_type": "markdown",
   "id": "8af82d53-402a-47bf-84b5-ec180991a6cf",
   "metadata": {
    "id": "cded3f8d-e07b-482c-b577-399d18f6b790"
   },
   "source": [
    "\n",
    "## Exemplo de Ferramenta (Tool): Pedido de Compra de Medicamento\n",
    "\n",
    "### Descrição\n",
    "A ferramenta `place_order_tool` é projetada para realizar pedidos de compra de medicamentos. Ela recebe dois parâmetros: `product_name` (nome do produto) e `address` (endereço de entrega). A ferramenta verifica se ambos os parâmetros são fornecidos e, se sim, retorna uma mensagem de confirmação do pedido. Caso contrário, ela retorna uma mensagem de falha no pedido.\n",
    "\n",
    "### Parâmetros\n",
    "- **product_name** (str): Nome do medicamento a ser comprado.\n",
    "- **address** (str): Endereço para entrega do medicamento.\n",
    "\n",
    "### Retorno\n",
    "- Uma string indicando o resultado do pedido: confirmação de pedido realizado ou falha no pedido.\n"
   ]
  },
  {
   "cell_type": "code",
   "execution_count": 15,
   "id": "c4912b6d-82b0-4ec6-a3d8-444aba489534",
   "metadata": {
    "id": "83902b55-d65e-4ccc-9146-82f9f84c33c4"
   },
   "outputs": [],
   "source": [
    "def place_order_tool(product_name:str, address:str) -> str:\n",
    "    if product_name != \"\" and address != \"\":\n",
    "        return \"Pedido realizado de {} para o endereço: {}\".format(product_name, address)\n",
    "    else:\n",
    "        return \"O pedido falhou\""
   ]
  },
  {
   "cell_type": "code",
   "execution_count": 16,
   "id": "6a671e7f-1d42-4722-91e4-b1204205c863",
   "metadata": {
    "id": "2ce6274d-e56b-494b-9fcf-2d13678d018b"
   },
   "outputs": [
    {
     "data": {
      "text/plain": [
       "'Pedido realizado de Buscoduo para o endereço: Rua Tutoia 1157'"
      ]
     },
     "execution_count": 16,
     "metadata": {},
     "output_type": "execute_result"
    }
   ],
   "source": [
    "place_order_tool(\"Buscoduo\", \"Rua Tutoia 1157\")"
   ]
  },
  {
   "cell_type": "markdown",
   "id": "753e7ba9-2a17-42d8-8971-7130fcdbdc50",
   "metadata": {
    "id": "cf8bf45c-b429-4653-ae5c-062bee2fa222"
   },
   "source": [
    "\n",
    "### Criação do arquivo Python para a ferramenta `place_order_tool` \n",
    "\n",
    "A célula a seguir define a ferramenta `place_order_tool` utilizando a biblioteca `ibm_watsonx_orchestrate`. A implementação da ferramenta é feita através de uma função Python decorada com `@tool`, que é uma função decoradora fornecida pela biblioteca `ibm_watsonx_orchestrate` para definir ferramentas. A função `place_order_tool` é então escrita em um arquivo Python chamado `place_order_tool.py`.\n"
   ]
  },
  {
   "cell_type": "code",
   "execution_count": 31,
   "id": "491f06c0-4441-429c-a37a-991f60385918",
   "metadata": {
    "id": "15e5e627-023f-4068-96bb-cc34c3a3421e"
   },
   "outputs": [],
   "source": [
    "function = '''\n",
    "from ibm_watsonx_orchestrate.agent_builder.tools import tool, ToolPermission\n",
    "\n",
    "@tool(name=\"place_order_tool\", description=\"Ferramenta para criar um pedido de compra de um medicamento.\", permission=ToolPermission.ADMIN)\n",
    "def place_order_tool(product_name:str, address:str) -> str:\n",
    "    if product_name != \"\" and address != \"\":\n",
    "        return \"Pedido realizado de {} para o endereço: {}\".format(product_name, address)\n",
    "    else:\n",
    "        return \"O pedido falhou\"\n",
    "'''\n",
    "\n",
    "with open(\"place_order_tool.py\", \"w\", encoding=\"utf-8\") as f:\n",
    "    f.write(function)"
   ]
  },
  {
   "cell_type": "markdown",
   "id": "d7dc6a04-b398-4f2a-994a-2c4b28ce2900",
   "metadata": {
    "id": "305a0bd2-831c-4dfa-927e-6c6c3f140a5d"
   },
   "source": [
    "### Importação da Ferramenta `place_order_tool`\n",
    "\n",
    "A célula a seguir importa a ferramenta `place_order_tool` utilizando a biblioteca `ibm_watsonx_orchestrate`. Essa ferramenta foi definida anteriormente no arquivo `place_order_tool.py` e é projetada para criar um pedido de compra de um medicamento com base nos parâmetros fornecidos: `product_name` e `address`."
   ]
  },
  {
   "cell_type": "code",
   "execution_count": 32,
   "id": "142c55c1-6623-4deb-b1c6-96e790c9ddd3",
   "metadata": {
    "id": "c3560377-ada2-4a06-87c7-cf5cc8cfb7fd"
   },
   "outputs": [
    {
     "name": "stdout",
     "output_type": "stream",
     "text": [
      "\u001b[0;36m[INFO]\u001b[0;0m - Existing Tool 'place_order_tool' found. Updating...\n",
      "\u001b[0;36m[INFO]\u001b[0;0m - Tool 'place_order_tool' updated successfully\n"
     ]
    }
   ],
   "source": [
    "! orchestrate tools import -f place_order_tool.py -k python"
   ]
  },
  {
   "cell_type": "markdown",
   "id": "aa3d80f2-3645-4489-8a7d-9509c736852b",
   "metadata": {
    "id": "1fe2f1a8-bd58-472b-98ae-7a67fe3e9ce7"
   },
   "source": [
    "\n",
    "## Criação do Arquivo de Configuração do Agente\n",
    "\n",
    "Nesta célula, criamos um arquivo de configuração para o agente `agente_bulas` utilizando a biblioteca `yaml`. O arquivo de configuração contém informações sobre o agente, incluindo sua versão, tipo, nome, modelo de linguagem, estilo, descrição, instruções, colaboradores, ferramentas e base de conhecimento.\n",
    "\n",
    "### Parâmetros de Configuração\n",
    "- **spec_version**: Versão da especificação do agente.\n",
    "- **kind**: Tipo do agente (native ou external).\n",
    "- **name**: Nome do agente.\n",
    "- **llm**: Modelo de linguagem utilizado pelo agente.\n",
    "- **style**: Estilo do agente (react ou default).\n",
    "- **description**: Descrição do agente. Esse campo vai ser usado por outros agentes para entender qual o papel deste colaborador.\n",
    "- **instructions**: Instruções para o agente. Esse campo vai ser usado pelo próprio agente para entender o que deve ser feito.\n",
    "- **collaborators**: Lista de colaboradores do agente.\n",
    "- **tools**: Lista de ferramentas disponíveis para o agente.\n",
    "- **knowledge_base**: Lista de bases de conhecimento do agente.\n"
   ]
  },
  {
   "cell_type": "code",
   "execution_count": 22,
   "id": "6b64319a-b78a-4d64-b2b7-fe49456dc018",
   "metadata": {
    "id": "fd43cdf3-e5b1-4adc-bc82-97783ecacaca"
   },
   "outputs": [],
   "source": [
    "import yaml\n",
    "\n",
    "data = {\n",
    "    'spec_version': 'v1',\n",
    "    'kind': 'native',\n",
    "    'name': 'agente_bulas',\n",
    "    'llm': 'watsonx/meta-llama/llama-3-3-70b-instruct',\n",
    "    'style': 'react',\n",
    "    'description': (\n",
    "        \"Agente para tirar dúvidas sobre o medicamento Buscoduo.\"\n",
    "    ),\n",
    "    'instructions': (\n",
    "        \"Você é um agente amigável que responde dúvidas do usuário sobre o Buscoduo, sempre consultando a bula.\\n\"\n",
    "        \"Se o usuário perguntar sobre um outro assunto, diga que você não responde sobre outros temas.\\n\"\n",
    "        \"Responda sempre em Português do Brasil.\"\n",
    "    ),\n",
    "    'collaborators': [\n",
    "    ],\n",
    "    'tools': [\n",
    "        \"place_order_tool\"\n",
    "    ],\n",
    "    'knowledge_base': [\n",
    "        \"kb_buscoduo\"\n",
    "    ],\n",
    "}\n",
    "\n",
    "# Write to YAML\n",
    "with open('agent_buscoduo.yaml', 'w') as file:\n",
    "    yaml.dump(data, file, sort_keys=False)"
   ]
  },
  {
   "cell_type": "markdown",
   "id": "533584b0-3f75-4bc3-8f24-96647648e932",
   "metadata": {
    "id": "bb411adc-3cb2-4d20-b748-3b55f34ee859"
   },
   "source": [
    "### Importação do Agente\n",
    "\n",
    "Nesta célula, importamos o agente definido no arquivo `agent_buscoduo.yaml`. Esse arquivo YAML contém a configuração do agente, incluindo suas ferramentas, base de conhecimento e instruções."
   ]
  },
  {
   "cell_type": "code",
   "execution_count": 30,
   "id": "4e2986e9-9001-4df8-a85b-10a5dac02cf1",
   "metadata": {
    "id": "b27ff94a-934f-4ccf-acdf-101331b909f4"
   },
   "outputs": [
    {
     "name": "stdout",
     "output_type": "stream",
     "text": [
      "\u001b[0;36m[INFO]\u001b[0;0m - Existing Agent 'agente_bulas' found. Updating...\n",
      "\u001b[0;36m[INFO]\u001b[0;0m - Agent 'agente_bulas' updated successfully\n"
     ]
    }
   ],
   "source": [
    "! orchestrate agents import -f agent_buscoduo.yaml"
   ]
  },
  {
   "cell_type": "markdown",
   "id": "4a4bc0bc-6cd4-41bb-9aef-2dd3e0fb1724",
   "metadata": {
    "id": "e51c9f98-39b0-44aa-b82f-451c0d34cb71"
   },
   "source": [
    "### Listagem de Agentes\n",
    "A célula a seguir lista todos os agentes disponíveis. Isso é feito para garantir que o agente `agente_bulas` tenha sido importado corretamente e esteja pronto para uso. Anote o id do agente criado pois no passo seguinte vamos enviar uma mensagem de teste.\n",
    "\n"
   ]
  },
  {
   "cell_type": "code",
   "execution_count": 0,
   "id": "5afcdba5-076f-407f-a9d1-84aff0861f96",
   "metadata": {
    "id": "1f71af80-529f-410f-ad28-99723e158f0b"
   },
   "outputs": [],
   "source": [
    "! orchestrate agents list -v"
   ]
  },
  {
   "cell_type": "markdown",
   "metadata": {},
   "source": [
    "## Testando o agente pela API\n",
    "\n",
    "Nos passos seguintes vamos enviar uma mensagem ao agente criado para testar as respostas."
   ]
  },
  {
   "cell_type": "markdown",
   "id": "d5df77e1-f622-4912-bc1c-af280e657b9f",
   "metadata": {
    "id": "7021bfd1-3163-43fd-bb39-240ef3f2d608"
   },
   "source": [
    "\n",
    "### Autenticação com o watsonx Orchestrate\n",
    "Nesta célula, vamos criar um token de autenticação do IAM para utilizar na API do watsonx Orchestrate.\n"
   ]
  },
  {
   "cell_type": "code",
   "execution_count": 0,
   "id": "6f8fe45b-6c11-435f-9acb-7399be989e96",
   "metadata": {
    "id": "a71ce487-7ed3-4bee-b1ff-b62324fcb315"
   },
   "outputs": [],
   "source": [
    "from ibm_cloud_sdk_core.authenticators import IAMAuthenticator\n",
    "\n",
    "apikey = '<apikey>'\n",
    "\n",
    "authenticator = IAMAuthenticator(apikey)\n",
    "token = authenticator.token_manager.get_token()"
   ]
  },
  {
   "cell_type": "markdown",
   "id": "67c43ff7-1240-43e9-879e-1d46c5dadf6b",
   "metadata": {
    "id": "724be745-dc45-4036-87f0-6ec48bc42886"
   },
   "source": [
    "\n",
    "### Envio de Requisição para o watsonx Orchestrate\n",
    "Nesta célula, enviamos uma requisição POST para a API do watsonx Orchestrate, utilizando a biblioteca `requests`. A requisição é enviada para o endpoint de completions do agente, passando como parâmetro o ID da instância e o ID do agente.\n",
    "Os headers da requisição incluem o token de autenticação obtido anteriormente e a chave de API. O corpo da requisição é um JSON que contém a mensagem do usuário, que é enviada para o agente para processamento.\n"
   ]
  },
  {
   "cell_type": "code",
   "execution_count": 0,
   "id": "2a081b9d-0fcb-4a11-8bea-c337f66397f0",
   "metadata": {
    "id": "6f315208-61c7-4da3-acc2-b064c8021a7e"
   },
   "outputs": [],
   "source": [
    "import requests\n",
    "\n",
    "response = requests.post(\"https://api.us-south.watson-orchestrate.cloud.ibm.com/instances/<instance-id>/v1/orchestrate/<agent-id>/chat/completions\",\n",
    "              headers={\"Authentication\": \"Bearer \"+token, \"IAM-API_KEY\": apikey, \"Content-Type\": \"application/json\", \"Accept\": \"application/json\"},\n",
    "             data='{\"stream\": true, \"messages\": [{\"role\": \"user\", \"content\": \"Buscoduo funciona para colicas menstruais?\"}]}')\n",
    "response.text"
   ]
  },
  {
   "cell_type": "markdown",
   "metadata": {},
   "source": [
    "### Observação: Modo Streaming\n",
    "\n",
    "Na célula anterior ativamos a propriedade `stream`, ela permite que sejam vistos todos os eventos de processamento do agente, como a chamada para as tools."
   ]
  }
 ],
 "metadata": {
  "kernelspec": {
   "display_name": "Python 3.11",
   "language": "python",
   "name": "python3"
  },
  "language_info": {
   "codemirror_mode": {
    "name": "ipython",
    "version": 3
   },
   "file_extension": ".py",
   "mimetype": "text/x-python",
   "name": "python",
   "nbconvert_exporter": "python",
   "pygments_lexer": "ipython3",
   "version": "3.11.9"
  }
 },
 "nbformat": 4,
 "nbformat_minor": 4
}
